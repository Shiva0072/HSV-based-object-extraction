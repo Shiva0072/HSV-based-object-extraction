{
 "cells": [
  {
   "cell_type": "code",
   "execution_count": 1,
   "metadata": {},
   "outputs": [
    {
     "name": "stdout",
     "output_type": "stream",
     "text": [
      "NO. of times the loop ran :  132\n"
     ]
    }
   ],
   "source": [
    "#in the above block, carried out the hue(basic color pigment : 0-360), saturation(color-depth 0-100), value(brightness 0-100)\n",
    "#in the above block i carried the static color masking and then detection. here i will do it dynamically\n",
    "import cv2\n",
    "import numpy as np\n",
    "\n",
    "def nothing(n):\n",
    "    return None\n",
    "n=0\n",
    "\n",
    "capt=cv2.VideoCapture(0)\n",
    "\n",
    "cv2.namedWindow('Trackbar_mask')\n",
    "cv2.createTrackbar('LH','Trackbar_mask',0,179,nothing)\n",
    "cv2.createTrackbar('LS','Trackbar_mask',0,255,nothing)\n",
    "cv2.createTrackbar('LV','Trackbar_mask',0,255,nothing)\n",
    "cv2.createTrackbar('UH','Trackbar_mask',179,179,nothing)\n",
    "cv2.createTrackbar('US','Trackbar_mask',255,255,nothing)\n",
    "cv2.createTrackbar('UV','Trackbar_mask',255,255,nothing)\n",
    "\n",
    "\n",
    "while (True):\n",
    "    n=n+1\n",
    "    _,img=capt.read()\n",
    "    img=cv2.flip(img,1)\n",
    "    hsv=cv2.cvtColor(img,cv2.COLOR_BGR2HSV)\n",
    "    \n",
    "    l_h=cv2.getTrackbarPos('LH','Trackbar_mask')\n",
    "    l_s=cv2.getTrackbarPos('LS','Trackbar_mask')\n",
    "    l_v=cv2.getTrackbarPos('LV','Trackbar_mask')\n",
    "    u_h=cv2.getTrackbarPos('UH','Trackbar_mask')\n",
    "    u_s=cv2.getTrackbarPos('US','Trackbar_mask')\n",
    "    u_v=cv2.getTrackbarPos('UV','Trackbar_mask')\n",
    "    \n",
    "    l_o=np.array([l_h,l_s,l_v])\n",
    "    u_o=np.array([u_h,u_s,u_v])\n",
    "    mask=cv2.inRange(hsv,l_o,u_o) \n",
    "    res1=cv2.bitwise_and(img,img,mask=mask)\n",
    "    \n",
    "    cv2.imshow('image',img)\n",
    "    cv2.imshow('hsv',hsv)\n",
    "    cv2.imshow('mask',mask)\n",
    "    cv2.imshow('Bitwise_and',res1)\n",
    "   \n",
    "    if(cv2.waitKey(1)==ord('q')):\n",
    "        break;\n",
    "\n",
    "print(\"NO. of times the loop ran : \",str(n))\n",
    "capt.release()\n",
    "cv2.destroyAllWindows()"
   ]
  },
  {
   "cell_type": "code",
   "execution_count": null,
   "metadata": {},
   "outputs": [],
   "source": []
  }
 ],
 "metadata": {
  "kernelspec": {
   "display_name": "Python 3",
   "language": "python",
   "name": "python3"
  },
  "language_info": {
   "codemirror_mode": {
    "name": "ipython",
    "version": 3
   },
   "file_extension": ".py",
   "mimetype": "text/x-python",
   "name": "python",
   "nbconvert_exporter": "python",
   "pygments_lexer": "ipython3",
   "version": "3.6.9"
  }
 },
 "nbformat": 4,
 "nbformat_minor": 4
}
